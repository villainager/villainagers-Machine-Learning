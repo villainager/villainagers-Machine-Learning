{
 "cells": [
  {
   "cell_type": "markdown",
   "id": "469824ff",
   "metadata": {},
   "source": [
    "# Pengelompokan Data dengan AHC dan Manhattan Distance\n",
    "\n",
    "Notebook ini akan mengelompokkan dataset skor kedisiplinan siswa menggunakan metode Agglomerative Hierarchical Clustering (AHC) dengan dua pendekatan:\n",
    "1. Complete Linkage\n",
    "2. Average Linkage\n",
    "\n",
    "Jarak antar data dihitung menggunakan **Manhattan Distance**."
   ]
  },
  {
   "cell_type": "markdown",
   "id": "48605261",
   "metadata": {},
   "source": [
    "## Step 1: Import Library\n",
    "Untuk perhitungan jarak dan pengelompokan, kita akan menggunakan library `pandas`, `numpy`, `scipy`, dan `matplotlib` untuk visualisasi dendrogram."
   ]
  },
  {
   "cell_type": "code",
   "execution_count": null,
   "id": "16322b0d",
   "metadata": {},
   "outputs": [],
   "source": [
    "\n",
    "import numpy as np\n",
    "import pandas as pd\n",
    "from scipy.cluster.hierarchy import dendrogram, linkage\n",
    "from scipy.spatial.distance import pdist, squareform\n",
    "import matplotlib.pyplot as plt\n"
   ]
  },
  {
   "cell_type": "markdown",
   "id": "43d44b2c",
   "metadata": {},
   "source": [
    "## Step 2: Definisikan Dataset\n",
    "Dataset yang digunakan adalah skor kedisiplinan siswa dengan 4 kriteria:"
   ]
  },
  {
   "cell_type": "code",
   "execution_count": null,
   "id": "0591f0ab",
   "metadata": {},
   "outputs": [],
   "source": [
    "\n",
    "# Dataset\n",
    "data = pd.DataFrame({\n",
    "    'Siswa': [1, 2, 3, 4, 5],\n",
    "    'DTW': [2, 3, 4, 1, 5],\n",
    "    'DTT': [4, 4, 2, 5, 2],\n",
    "    'DMT': [4, 3, 5, 4, 2],\n",
    "    'DDB': [3, 5, 4, 2, 3]\n",
    "}).set_index('Siswa')\n",
    "\n",
    "# Tampilkan dataset\n",
    "data\n"
   ]
  },
  {
   "cell_type": "markdown",
   "id": "78a6a65a",
   "metadata": {},
   "source": [
    "## Step 3: Hitung Jarak Manhattan\n",
    "Menggunakan rumus Manhattan Distance untuk menghitung jarak antar data."
   ]
  },
  {
   "cell_type": "code",
   "execution_count": null,
   "id": "c97e1efe",
   "metadata": {},
   "outputs": [],
   "source": [
    "\n",
    "# Hitung jarak Manhattan\n",
    "manhattan_dist = pdist(data, metric='cityblock')\n",
    "manhattan_dist_matrix = squareform(manhattan_dist)\n",
    "\n",
    "# Tampilkan matriks jarak\n",
    "pd.DataFrame(manhattan_dist_matrix, index=data.index, columns=data.index)\n"
   ]
  },
  {
   "cell_type": "markdown",
   "id": "36ca20e4",
   "metadata": {},
   "source": [
    "## Step 4: Agglomerative Hierarchical Clustering (Complete Linkage)\n",
    "Gunakan Complete Linkage untuk menentukan pengelompokan data."
   ]
  },
  {
   "cell_type": "code",
   "execution_count": null,
   "id": "9cd723e6",
   "metadata": {},
   "outputs": [],
   "source": [
    "\n",
    "# AHC dengan Complete Linkage\n",
    "complete_linkage = linkage(manhattan_dist, method='complete')\n",
    "\n",
    "# Visualisasi dendrogram\n",
    "plt.figure(figsize=(10, 6))\n",
    "dendrogram(complete_linkage, labels=data.index, color_threshold=0, leaf_rotation=45)\n",
    "plt.title(\"Dendrogram (Complete Linkage)\")\n",
    "plt.xlabel(\"Siswa\")\n",
    "plt.ylabel(\"Jarak Manhattan\")\n",
    "plt.show()\n"
   ]
  },
  {
   "cell_type": "markdown",
   "id": "97457092",
   "metadata": {},
   "source": [
    "## Step 5: Agglomerative Hierarchical Clustering (Average Linkage)\n",
    "Gunakan Average Linkage untuk menentukan pengelompokan data."
   ]
  },
  {
   "cell_type": "code",
   "execution_count": null,
   "id": "7905d20f",
   "metadata": {},
   "outputs": [],
   "source": [
    "\n",
    "# AHC dengan Average Linkage\n",
    "average_linkage = linkage(manhattan_dist, method='average')\n",
    "\n",
    "# Visualisasi dendrogram\n",
    "plt.figure(figsize=(10, 6))\n",
    "dendrogram(average_linkage, labels=data.index, color_threshold=0, leaf_rotation=45)\n",
    "plt.title(\"Dendrogram (Average Linkage)\")\n",
    "plt.xlabel(\"Siswa\")\n",
    "plt.ylabel(\"Jarak Manhattan\")\n",
    "plt.show()\n"
   ]
  }
 ],
 "metadata": {},
 "nbformat": 4,
 "nbformat_minor": 5
}