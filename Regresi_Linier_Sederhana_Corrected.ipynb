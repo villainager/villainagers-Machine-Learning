{
 "cells": [
  {
   "cell_type": "markdown",
   "id": "67186464",
   "metadata": {},
   "source": [
    "# Menentukan Persamaan Regresi Linier\n",
    "\n",
    "Notebook ini bertujuan untuk menghitung persamaan regresi linier sederhana berdasarkan data yang diberikan. Langkah-langkah meliputi perhitungan manual koefisien regresi dan visualisasi hasil."
   ]
  },
  {
   "cell_type": "markdown",
   "id": "e71a3f86",
   "metadata": {},
   "source": [
    "## Step 1: Definisikan Dataset\n",
    "Dataset yang digunakan berisi usia mobil (tahun) sebagai variabel independen dan harga mobil ($100) sebagai variabel dependen."
   ]
  },
  {
   "cell_type": "code",
   "execution_count": null,
   "id": "c7b09ed7",
   "metadata": {},
   "outputs": [],
   "source": [
    "\n",
    "import numpy as np\n",
    "import pandas as pd\n",
    "\n",
    "# Dataset\n",
    "data = pd.DataFrame({\n",
    "    'Usia Mobil (tahun)': [5, 4, 6, 5, 5, 5, 6, 6, 2, 7, 7],\n",
    "    'Harga Mobil ($100)': [85, 103, 70, 82, 89, 98, 66, 95, 169, 70, 48]\n",
    "})\n",
    "data.columns = ['x', 'y']\n",
    "\n",
    "# Tampilkan dataset\n",
    "data\n"
   ]
  },
  {
   "cell_type": "markdown",
   "id": "8d4d2f00",
   "metadata": {},
   "source": [
    "## Step 2: Hitung Koefisien Regresi\n",
    "Koefisien kemiringan \\(b_1\\) dan intersep \\(b_0\\) dihitung menggunakan rumus regresi linier sederhana:"
   ]
  },
  {
   "cell_type": "code",
   "execution_count": null,
   "id": "3eb5702d",
   "metadata": {},
   "outputs": [],
   "source": [
    "\n",
    "# Menghitung parameter regresi\n",
    "n = len(data)\n",
    "sum_x = data['x'].sum()\n",
    "sum_y = data['y'].sum()\n",
    "sum_x_squared = (data['x'] ** 2).sum()\n",
    "sum_xy = (data['x'] * data['y']).sum()\n",
    "\n",
    "# Koefisien regresi\n",
    "b1 = (n * sum_xy - sum_x * sum_y) / (n * sum_x_squared - sum_x ** 2)\n",
    "b0 = (sum_y - b1 * sum_x) / n\n",
    "\n",
    "# Tampilkan hasil\n",
    "b1, b0\n"
   ]
  },
  {
   "cell_type": "markdown",
   "id": "9ac617c8",
   "metadata": {},
   "source": [
    "## Step 3: Menyusun Persamaan Regresi\n",
    "Persamaan regresi dapat ditulis dalam bentuk:\n",
    "\n",
    "\\[y = b_0 + b_1x\\]"
   ]
  },
  {
   "cell_type": "code",
   "execution_count": null,
   "id": "e8578321",
   "metadata": {},
   "outputs": [],
   "source": [
    "\n",
    "print(f\"Persamaan regresi: y = {b0:.2f} + {b1:.2f}x\")\n"
   ]
  },
  {
   "cell_type": "markdown",
   "id": "26ff73dc",
   "metadata": {},
   "source": [
    "## Step 4: Visualisasi Hasil\n",
    "Grafik scatter plot dari data dan garis regresi yang dihasilkan."
   ]
  },
  {
   "cell_type": "code",
   "execution_count": null,
   "id": "5903cdc6",
   "metadata": {},
   "outputs": [],
   "source": [
    "\n",
    "import matplotlib.pyplot as plt\n",
    "\n",
    "# Visualisasi data dan garis regresi\n",
    "plt.figure(figsize=(10, 6))\n",
    "plt.scatter(data['x'], data['y'], color='blue', label='Data')\n",
    "plt.plot(data['x'], b0 + b1 * data['x'], color='red', label='Garis Regresi', linewidth=2)\n",
    "\n",
    "# Tambahkan anotasi\n",
    "for i in range(len(data)):\n",
    "    plt.text(data['x'][i], data['y'][i], f\"({data['x'][i]}, {data['y'][i]})\", fontsize=9, color=\"green\")\n",
    "\n",
    "# Labeling\n",
    "plt.title('Regresi Linier Sederhana - Harga vs Usia Mobil', fontsize=16)\n",
    "plt.xlabel('Usia Mobil (tahun)', fontsize=14)\n",
    "plt.ylabel('Harga Mobil ($100)', fontsize=14)\n",
    "plt.legend()\n",
    "plt.grid(True)\n",
    "plt.show()\n"
   ]
  }
 ],
 "metadata": {},
 "nbformat": 4,
 "nbformat_minor": 5
}